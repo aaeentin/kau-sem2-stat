{
 "cells": [
  {
   "cell_type": "code",
   "execution_count": 1,
   "metadata": {},
   "outputs": [],
   "source": [
    "import numpy as np\n",
    "import pandas as pd\n",
    "import scipy.stats as stats\n",
    "\n",
    "import seaborn as sns\n",
    "import matplotlib.pyplot as plt"
   ]
  },
  {
   "cell_type": "code",
   "execution_count": 2,
   "metadata": {},
   "outputs": [],
   "source": [
    "ALPHA = 0.05\n",
    "\n",
    "DATA_SOURCE_PATH_8_10 = 'data_samples/T5_8_GOODS.DAT'\n",
    "DATA_SOURCE_PATH_8_11 = 'data_samples/T6_17_FISH.DAT'\n"
   ]
  },
  {
   "cell_type": "markdown",
   "metadata": {},
   "source": [
    "## Task 8.10\n",
    "\n",
    "For the cyclical data of Table 5.8, do the following:\n",
    "\n",
    "+ (a) Find the discriminant function coefficient vector.\n",
    "+ (b) Find the standardized coefficients.\n",
    "+ (c) Calculate $t-tests$ for individual variables.\n",
    "+ (d) Compare the results of (b) and (c) as to the contribution of each variable to separation of the groups.\n",
    "+ (e) Find the partial $F$ for each variable, as in (8.26). Do the partial $F$’s rank the variables in the same order of importance as the standardized coefficients?"
   ]
  },
  {
   "cell_type": "code",
   "execution_count": 3,
   "metadata": {},
   "outputs": [],
   "source": [
    "def load_data_8_10(data_source_path):\n",
    "    data = np.loadtxt(data_source_path, dtype=float)[:, 1:]\n",
    "    \n",
    "    data_group1 = data[data[:, 0] == 1][:, 1:]\n",
    "    data_group2 = data[data[:, 0] == 2][:, 1:]\n",
    "\n",
    "    n1, d1 = data_group1.shape\n",
    "    n2, d2 = data_group2.shape\n",
    "\n",
    "    k = len(np.unique(data[:, 0]))\n",
    "\n",
    "    assert d1 == d2\n",
    "    assert n1 + n2 - 2 > d2\n",
    "\n",
    "    y1_mean = np.mean(data_group1, axis=0)[:, None]\n",
    "    y2_mean = np.mean(data_group2, axis=0)[:, None]\n",
    "\n",
    "    s1 = np.cov(data_group1, rowvar=False)\n",
    "    s2 = np.cov(data_group2, rowvar=False)\n",
    "\n",
    "    s_pool = ((d1 - 1) * s1 + (d2 - 1) * s2) / (d1 + d2 - 2)\n",
    "    return y1_mean, y2_mean, s_pool, n1, n2, d1, data_group1, data_group2\n"
   ]
  },
  {
   "cell_type": "code",
   "execution_count": 4,
   "metadata": {},
   "outputs": [],
   "source": [
    "y1_mean, y2_mean, s_pool, n1, n2, d1, data_group1, data_group2 = load_data_8_10(DATA_SOURCE_PATH_8_10)"
   ]
  },
  {
   "cell_type": "markdown",
   "metadata": {},
   "source": [
    "a) Find the discriminant function coefficient vector"
   ]
  },
  {
   "cell_type": "code",
   "execution_count": 5,
   "metadata": {},
   "outputs": [
    {
     "data": {
      "text/plain": [
       "array([[-0.05924825, -0.00873381, -0.22562663, -0.13787466]])"
      ]
     },
     "execution_count": 5,
     "metadata": {},
     "output_type": "execute_result"
    }
   ],
   "source": [
    "a = (y1_mean - y2_mean).T @ np.linalg.inv(s_pool)\n",
    "a"
   ]
  },
  {
   "cell_type": "markdown",
   "metadata": {},
   "source": [
    "b) Find the standardized coefficients"
   ]
  },
  {
   "cell_type": "code",
   "execution_count": 6,
   "metadata": {},
   "outputs": [
    {
     "data": {
      "text/plain": [
       "array([[-1.4269322 , -0.07348438, -0.97049326, -0.06149649]])"
      ]
     },
     "execution_count": 6,
     "metadata": {},
     "output_type": "execute_result"
    }
   ],
   "source": [
    "a_standart = np.sqrt(np.diag(s_pool)) * a\n",
    "a_standart"
   ]
  },
  {
   "cell_type": "markdown",
   "metadata": {},
   "source": [
    "c) Calculate $t-tests$ for individual variables."
   ]
  },
  {
   "cell_type": "code",
   "execution_count": 7,
   "metadata": {},
   "outputs": [
    {
     "name": "stdout",
     "output_type": "stream",
     "text": [
      "Critic value: 2.36\n",
      "t-statistic for variable 0: -3.77; reject H_0\n",
      "t-statistic for variable 1: 0.56; accept H_0\n",
      "t-statistic for variable 2: -3.21; reject H_0\n",
      "t-statistic for variable 3: -0.721; accept H_0\n"
     ]
    }
   ],
   "source": [
    "df = n1 - 2\n",
    "critic_value = stats.t.ppf(q=1 - ALPHA / 2, df=df)\n",
    "print(f'Critic value: {critic_value:0.3}')\n",
    "\n",
    "for p in range(d1):\n",
    "    t_val = (y1_mean[p][0] - y2_mean[p][0]) / (np.sqrt(s_pool[p][p] * (1./n1 + 1./n2)))\n",
    "    hypothesis_result = 'reject H_0' if np.abs(t_val) > critic_value else 'accept H_0'\n",
    "    print(f't-statistic for variable {p}: {t_val:.3}; {hypothesis_result}')"
   ]
  },
  {
   "cell_type": "markdown",
   "metadata": {},
   "source": [
    "d) Compare the results of (b) and (c) as to the contribution of each variable to separation of the groups."
   ]
  },
  {
   "cell_type": "code",
   "execution_count": 8,
   "metadata": {},
   "outputs": [
    {
     "data": {
      "image/png": "[encoded data removed]",
      "text/plain": [
       "<Figure size 432x288 with 2 Axes>"
      ]
     },
     "metadata": {
      "needs_background": "light"
     },
     "output_type": "display_data"
    }
   ],
   "source": [
    "ax = sns.heatmap(np.vstack((a, a_standart)), annot=True, fmt=\".2f\",)"
   ]
  },
  {
   "cell_type": "markdown",
   "metadata": {},
   "source": [
    "e) Find the partial $F$ for each variable, as in (8.26). Do the partial $F$’s rank the variables in the same order of importance as the standardized coefficients?"
   ]
  },
  {
   "cell_type": "code",
   "execution_count": 9,
   "metadata": {},
   "outputs": [],
   "source": [
    "def calc_hotteling(data1, data2, n1, n2, p):\n",
    "    mean1 = np.mean(data1, axis=0)\n",
    "    mean2 = np.mean(data2, axis=0)\n",
    "\n",
    "    engineers_cov = np.cov(data1, rowvar=False)\n",
    "    pilots_cov = np.cov(data2, rowvar=False)\n",
    "    \n",
    "    S = ((n1 - 1) * engineers_cov + (n2 - 1) * pilots_cov) / (n1 + n2 - 2)\n",
    "    \n",
    "    T_2 = (mean1.T - mean2.T) @ np.linalg.pinv(S) @ (mean1 - mean2) * ((n1 * n2) / (n1 + n2))\n",
    "    return T_2"
   ]
  },
  {
   "cell_type": "code",
   "execution_count": 10,
   "metadata": {},
   "outputs": [],
   "source": [
    "def compute_f_stat(data1, data2, m, n1, n2, p):\n",
    "    nu = n1 + n2 - 2\n",
    "    t2 = calc_hotteling(data1, data2, n1, n2, p)\n",
    "    t2_p = calc_hotteling(np.delete(data1, m, axis=1), np.delete(data2, m, axis=1), n1, n2, p-1)\n",
    "    return (nu - p + 1) * (t2 - t2_p) / (nu + t2_p)"
   ]
  },
  {
   "cell_type": "code",
   "execution_count": 11,
   "metadata": {},
   "outputs": [
    {
     "name": "stdout",
     "output_type": "stream",
     "text": [
      "Partian F value: 3.332\n",
      "Partian F value: 0.01024\n",
      "Partian F value: 1.482\n",
      "Partian F value: 0.001338\n"
     ]
    }
   ],
   "source": [
    "for m in range(d1):\n",
    "    F = compute_f_stat(data_group1, data_group2, m, n1, n2, d1)\n",
    "    print(f'Partian F value: {F:.4}')"
   ]
  },
  {
   "cell_type": "markdown",
   "metadata": {},
   "source": [
    "## Task 8.11\n",
    "\n",
    "Using the fish data in Table 6.17, do the following:\n",
    "\n",
    "+ (a) Find the eigenvectors of $E^{−1}H$.\n",
    "+ (b) Carry out tests of significance for the discriminant functions and find the relative importance of each as in (8.13), $\\lambda_i / \\sum_j \\lambda_j$ . Do these two proce-dures agree as to the number of important discriminant functions?\n",
    "+ (c) Find the standardized coefficients and comment on the contribution of the variables to separation of groups.\n",
    "+ (d) Find the partial $F$ for each variable, as in (8.28). Do they rank the variables in the same order as the standardized coefficients for the first discriminant function?\n",
    "+ (e) Plot the first two discriminant functions for each observation and for the mean vectors."
   ]
  },
  {
   "cell_type": "code",
   "execution_count": 12,
   "metadata": {},
   "outputs": [],
   "source": [
    "def load_data_8_11(data_source_path):\n",
    "    data = np.loadtxt(data_source_path, dtype=float)\n",
    "    n, d = data[:, 1:].shape\\\n",
    "\n",
    "    unique_groups = sorted(np.unique(data[:, 0]))\n",
    "    k = len(unique_groups)\n",
    "    return data, n, d, unique_groups, k"
   ]
  },
  {
   "cell_type": "code",
   "execution_count": 13,
   "metadata": {},
   "outputs": [],
   "source": [
    "data, n, d, unique_groups, k = load_data_8_11(DATA_SOURCE_PATH_8_11)"
   ]
  },
  {
   "cell_type": "markdown",
   "metadata": {},
   "source": [
    "a) Find the eigenvectors of $E^{−1}H$."
   ]
  },
  {
   "cell_type": "code",
   "execution_count": 14,
   "metadata": {},
   "outputs": [],
   "source": [
    "def get_H(data, unique_groups, d):\n",
    "    H = np.zeros(shape=(d, d))\n",
    "    total_mean = np.mean(data[:, 1:], axis=0)[:, None]\n",
    "    for group in unique_groups:\n",
    "        group_data = data[data[:, 0] == group][:, 1:]\n",
    "        n_i = group_data.shape[0]\n",
    "        group_mean = np.mean(group_data, axis=0)[:, None]\n",
    "        H += n_i * (group_mean - total_mean) @ (group_mean - total_mean).T\n",
    "    return H"
   ]
  },
  {
   "cell_type": "code",
   "execution_count": 15,
   "metadata": {},
   "outputs": [],
   "source": [
    "def get_E(data, unique_groups, d):\n",
    "    E = np.zeros(shape=(d, d))\n",
    "    for group in unique_groups:\n",
    "        group_data = data[data[:, 0] == group][:, 1:]\n",
    "        n_i, _ = group_data.shape\n",
    "        group_mean = np.mean(group_data, axis=0)[:, None]\n",
    "        for i in range(n_i):\n",
    "            E += (group_data[i, :][:, None] - group_mean) @ (group_data[i, :][:, None] - group_mean).T\n",
    "    return E"
   ]
  },
  {
   "cell_type": "code",
   "execution_count": 16,
   "metadata": {},
   "outputs": [],
   "source": [
    "H = get_H(data, unique_groups, d)\n",
    "E = get_E(data, unique_groups, d)"
   ]
  },
  {
   "cell_type": "code",
   "execution_count": 17,
   "metadata": {},
   "outputs": [],
   "source": [
    "# eig_values, eig_vectors = np.linalg.eigh(np.linalg.inv(E) @ H)\n",
    "# eig_values = eig_values[::-1]\n",
    "# eig_vectors = eig_vectors[::-1]\n",
    "# rank = min(k-1, d)\n",
    "# rank"
   ]
  },
  {
   "cell_type": "code",
   "execution_count": 18,
   "metadata": {},
   "outputs": [
    {
     "data": {
      "text/plain": [
       "2"
      ]
     },
     "execution_count": 18,
     "metadata": {},
     "output_type": "execute_result"
    }
   ],
   "source": [
    "eig_values, eig_vectors = np.linalg.eig(np.linalg.inv(E) @ H)\n",
    "rank = min(k-1, d)\n",
    "rank"
   ]
  },
  {
   "cell_type": "code",
   "execution_count": 19,
   "metadata": {},
   "outputs": [
    {
     "data": {
      "text/plain": [
       "array([ 2.95147543e+00,  1.27324367e-01,  9.33374914e-17, -2.18984134e-17])"
      ]
     },
     "execution_count": 19,
     "metadata": {},
     "output_type": "execute_result"
    }
   ],
   "source": [
    "eig_values"
   ]
  },
  {
   "cell_type": "code",
   "execution_count": 20,
   "metadata": {},
   "outputs": [
    {
     "name": "stdout",
     "output_type": "stream",
     "text": [
      "Eigenvalue 2.95 -- Eigenvector [-0.032 -0.635  0.912 -0.377]\n",
      "Eigenvalue 0.127 -- Eigenvector [-0.82   0.597 -0.288  0.085]\n"
     ]
    }
   ],
   "source": [
    "for i in range(rank):\n",
    "    print(f'Eigenvalue {eig_values[i]:.3} -- Eigenvector {np.round(eig_vectors[i], 3)}')"
   ]
  },
  {
   "cell_type": "code",
   "execution_count": 21,
   "metadata": {},
   "outputs": [
    {
     "data": {
      "text/plain": [
       "array([[-0.03181703, -0.63526646,  0.91248258, -0.37746961],\n",
       "       [-0.81967777,  0.59729861, -0.28775601,  0.08475384],\n",
       "       [ 0.53294806,  0.48673081,  0.28184805, -0.55950865],\n",
       "       [ 0.20756299, -0.05257385, -0.07164977,  0.73299629]])"
      ]
     },
     "execution_count": 21,
     "metadata": {},
     "output_type": "execute_result"
    }
   ],
   "source": [
    "eig_vectors"
   ]
  },
  {
   "cell_type": "code",
   "execution_count": 22,
   "metadata": {},
   "outputs": [],
   "source": [
    "a = eig_vectors[:rank,:]"
   ]
  },
  {
   "cell_type": "markdown",
   "metadata": {},
   "source": [
    "b) Carry out tests of significance for the discriminant functions and find the relative importance of each as in (8.13), $\\lambda_i / \\sum_j \\lambda_j$ . Do these two proce-dures agree as to the number of important discriminant functions?"
   ]
  },
  {
   "cell_type": "code",
   "execution_count": 23,
   "metadata": {},
   "outputs": [
    {
     "data": {
      "text/plain": [
       "(0.9586448047458144, 0.04135519525418562)"
      ]
     },
     "execution_count": 23,
     "metadata": {},
     "output_type": "execute_result"
    }
   ],
   "source": [
    "eig_values[0] / (eig_values[0] + eig_values[1]), eig_values[1] / (eig_values[0] + eig_values[1])"
   ]
  },
  {
   "cell_type": "code",
   "execution_count": 24,
   "metadata": {},
   "outputs": [],
   "source": [
    "def compute_lambda(eig_vals, m):\n",
    "    return np.prod(1 / (1 + eig_vals[m:]))\n",
    "\n",
    "def compute_mu(eig_vals, n, d, k, m):\n",
    "    return (n - 1 - 0.5 * (d + k)) * np.sum(np.log(1 + eig_vals[m:]))\n",
    "\n",
    "def compute_f(eig_vals, n, d, k, m):\n",
    "    t = np.sqrt((((d - m + 1) ** 2) * ((k - m) ** 2) - 4) / (((d - m + 1) ** 2) + ((k - m) ** 2) - 5))\n",
    "    w = n - 1 - 0.5 * (d + k)\n",
    "    df1 = (d - m + 1) * (k - m)\n",
    "    df2 = w * t - 0.5 * ((d - m + 1) * (k - m) - 2)\n",
    "    f_critic = stats.f.ppf(1 - ALPHA, df1, df2)\n",
    "    L = compute_lambda(eig_vals, m-1)\n",
    "    F = ((1 - L ** (1./t)) * df2) / (L ** (1./t) * df1)\n",
    "    p_val = stats.f.sf(F, df1, df2)\n",
    "    return F, f_critic, p_val"
   ]
  },
  {
   "cell_type": "code",
   "execution_count": 25,
   "metadata": {},
   "outputs": [
    {
     "name": "stdout",
     "output_type": "stream",
     "text": [
      "Partian F value: 8.329; Critic F value: 2.097; p-value: 1.609e-07\n",
      "Partian F value: 1.316; Critic F value: 2.911; p-value: 0.2869\n"
     ]
    }
   ],
   "source": [
    "for m in range(rank):\n",
    "    F, F_critic, p_val = compute_f(eig_values, n, d, k, m+1)\n",
    "    print(f'Partian F value: {F:.4}; Critic F value: {F_critic:.4}; p-value: {p_val:.4}')"
   ]
  },
  {
   "cell_type": "markdown",
   "metadata": {},
   "source": [
    "c) Find the standardized coefficients and comment on the contribution of the variables to separation of groups."
   ]
  },
  {
   "cell_type": "code",
   "execution_count": 26,
   "metadata": {},
   "outputs": [
    {
     "data": {
      "text/plain": [
       "array([3.66173911, 2.91204396, 3.40697813, 3.25051278])"
      ]
     },
     "execution_count": 26,
     "metadata": {},
     "output_type": "execute_result"
    }
   ],
   "source": [
    "err = np.sqrt(np.diag(E))\n",
    "err"
   ]
  },
  {
   "cell_type": "code",
   "execution_count": 27,
   "metadata": {},
   "outputs": [
    {
     "data": {
      "text/plain": [
       "array([[-0.11650566, -1.84992386,  3.10880821, -1.22696978],\n",
       "       [-3.00144614,  1.73935981, -0.98037843,  0.27549345]])"
      ]
     },
     "execution_count": 27,
     "metadata": {},
     "output_type": "execute_result"
    }
   ],
   "source": [
    "a * err"
   ]
  },
  {
   "cell_type": "markdown",
   "metadata": {},
   "source": [
    "d) Find the partial $F$ for each variable, as in (8.28). Do they rank the variables in the same order as the standardized coefficients for the first discriminant function?"
   ]
  },
  {
   "cell_type": "code",
   "execution_count": 28,
   "metadata": {},
   "outputs": [],
   "source": [
    "def compute_lambda(E, H):\n",
    "    return np.linalg.det(E) / np.linalg.det(E + H)\n",
    "\n",
    "\n",
    "def compute_f_stat(data, E, H, m, n, d, k):\n",
    "    ve = n - k\n",
    "    vh = k - 1\n",
    "    L = compute_lambda(E, H) / compute_lambda(get_E(np.delete(data, m+1, axis=1), unique_groups, d-1), get_H(np.delete(data, m+1, axis=1), unique_groups, d-1))\n",
    "    return ((1 - L) * (ve - d + 1)) / (L * vh)"
   ]
  },
  {
   "cell_type": "code",
   "execution_count": 29,
   "metadata": {},
   "outputs": [
    {
     "name": "stdout",
     "output_type": "stream",
     "text": [
      "Partian F value: 1.067\n",
      "Partian F value: 20.98\n",
      "Partian F value: 9.63\n",
      "Partian F value: 1.228\n"
     ]
    }
   ],
   "source": [
    "for m in range(d):\n",
    "    F = compute_f_stat(data, E, H, m, n, d, k)\n",
    "    print(f'Partian F value: {F:.4}')"
   ]
  },
  {
   "cell_type": "markdown",
   "metadata": {},
   "source": [
    "e) Plot the first two discriminant functions for each observation and for the mean vectors."
   ]
  },
  {
   "cell_type": "code",
   "execution_count": 30,
   "metadata": {},
   "outputs": [],
   "source": [
    "z = data[:, 1:] @ a.T\n",
    "z_mean = np.mean(data[:, 1:], axis=0) @ a.T"
   ]
  },
  {
   "cell_type": "code",
   "execution_count": 31,
   "metadata": {},
   "outputs": [
    {
     "data": {
      "image/png": "[encoded data removed]",
      "text/plain": [
       "<Figure size 432x288 with 1 Axes>"
      ]
     },
     "metadata": {
      "needs_background": "light"
     },
     "output_type": "display_data"
    }
   ],
   "source": [
    "colors = ['red', 'green', 'blue']\n",
    "for color, i, target_name in zip(colors, unique_groups, unique_groups):\n",
    "    plt.scatter(z[data[:, 0] == i][:, 0], z[data[:, 0] == i][:, 1], alpha=.8, color=color, label=target_name)\n",
    "plt.scatter(z_mean[0], z_mean[1], label='mean');\n",
    "plt.legend();"
   ]
  },
  {
   "cell_type": "code",
   "execution_count": null,
   "metadata": {},
   "outputs": [],
   "source": []
  }
 ],
 "metadata": {
  "interpreter": {
   "hash": "e7370f93d1d0cde622a1f8e1c04877d8463912d04d973331ad4851f04de6915a"
  },
  "kernelspec": {
   "display_name": "Python 3.10.4 64-bit",
   "language": "python",
   "name": "python3"
  },
  "language_info": {
   "codemirror_mode": {
    "name": "ipython",
    "version": 3
   },
   "file_extension": ".py",
   "mimetype": "text/x-python",
   "name": "python",
   "nbconvert_exporter": "python",
   "pygments_lexer": "ipython3",
   "version": "3.10.4"
  },
  "orig_nbformat": 4
 },
 "nbformat": 4,
 "nbformat_minor": 2
}
