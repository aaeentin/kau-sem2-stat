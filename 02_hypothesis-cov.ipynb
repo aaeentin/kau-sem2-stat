{
 "cells": [
  {
   "cell_type": "code",
   "execution_count": 1,
   "metadata": {},
   "outputs": [],
   "source": [
    "import numpy as np\n",
    "import scipy.stats as stats\n",
    "from math import sqrt"
   ]
  },
  {
   "cell_type": "code",
   "execution_count": 2,
   "metadata": {},
   "outputs": [],
   "source": [
    "def check_H_0(p_value, alpha):\n",
    "    if p_value <= alpha:\n",
    "        print('Reject H_0')\n",
    "    else:\n",
    "        print('Accept H_0')"
   ]
  },
  {
   "cell_type": "code",
   "execution_count": 3,
   "metadata": {},
   "outputs": [],
   "source": [
    "ALPHA = 0.05\n",
    "\n",
    "DATA_SOURCE_PATH_7_14 = 'data_samples/T3_1_HEIGHTWT.DAT'\n",
    "DATA_SOURCE_PATH_7_15 = 'data_samples/T6_12_CALCSPD.DAT'\n",
    "DATA_SOURCE_PATH_7_28 = 'data_samples/T3_7_SONS.DAT'\n"
   ]
  },
  {
   "cell_type": "markdown",
   "metadata": {},
   "source": [
    "## 7.14\n",
    "\n",
    "In Example 5.2.2, we assumed that for the height and weight data of Table 3.1,\n",
    "the population covariance matrix is:\n",
    "\n",
    "$\\sum = \\left( \\begin{array}{cc} 20 & 100 \\\\ 100 & 1000 \\end{array} \\right)$\n",
    "\n",
    "Test this as a hypothesis using (7.2)."
   ]
  },
  {
   "cell_type": "code",
   "execution_count": 4,
   "metadata": {},
   "outputs": [],
   "source": [
    "E_0 = np.asarray([[20, 100], [100, 1000]])\n"
   ]
  },
  {
   "cell_type": "code",
   "execution_count": 5,
   "metadata": {},
   "outputs": [],
   "source": [
    "def load_data_7_14(data_source_path):\n",
    "    data = np.loadtxt(data_source_path, dtype=int)[:, 1:]\n",
    "\n",
    "    nu, p = data.shape\n",
    "\n",
    "    S = np.cov(data, rowvar=False)\n",
    "    eig_vals, _ = np.linalg.eig(S @ np.linalg.pinv(E_0))\n",
    "    eig_vals = eig_vals[:p]\n",
    "\n",
    "    u = nu * (np.sum(eig_vals - np.log(eig_vals)) - p)\n",
    "    u_t = (1 - (1 / (6 * nu - 1) * (2 * p + 1 - (2 / (p + 1))))) * u\n",
    "\n",
    "    df = (0.5 * p * (p + 1))\n",
    "    xi_critical = stats.chi2.ppf(1 - ALPHA, df=df)\n",
    "\n",
    "    return u_t, xi_critical"
   ]
  },
  {
   "cell_type": "code",
   "execution_count": 6,
   "metadata": {},
   "outputs": [],
   "source": [
    "u_t, xi_critical = load_data_7_14(DATA_SOURCE_PATH_7_14)"
   ]
  },
  {
   "cell_type": "code",
   "execution_count": 7,
   "metadata": {},
   "outputs": [
    {
     "name": "stdout",
     "output_type": "stream",
     "text": [
      "Accept H_0\n"
     ]
    }
   ],
   "source": [
    "check_H_0(u_t, xi_critical)"
   ]
  },
  {
   "cell_type": "markdown",
   "metadata": {},
   "source": [
    "## 7.15\n",
    "\n",
    "$H_{0} : \\sum = σ^2I$\n",
    "\n",
    "and\n",
    "\n",
    "$H_{0} : C \\sum C^{'} = σ^2I$\n",
    "\n",
    "for the calculator speed data of Table 6.12."
   ]
  },
  {
   "cell_type": "code",
   "execution_count": 8,
   "metadata": {},
   "outputs": [],
   "source": [
    "def load_data_7_15(data_source_path):\n",
    "    data = np.loadtxt(data_source_path, dtype=int)\n",
    "    n, p = data.shape\n",
    "    nu = n - 1\n",
    "\n",
    "\n",
    "    return data, n, p, nu\n",
    "    "
   ]
  },
  {
   "cell_type": "code",
   "execution_count": 9,
   "metadata": {},
   "outputs": [],
   "source": [
    "data_7_15, n_7_15, p_7_15, nu_7_15 = load_data_7_15(DATA_SOURCE_PATH_7_15)"
   ]
  },
  {
   "cell_type": "markdown",
   "metadata": {},
   "source": [
    "part I"
   ]
  },
  {
   "cell_type": "code",
   "execution_count": 10,
   "metadata": {},
   "outputs": [],
   "source": [
    "def calc_H_0_input_7_15_1(data, p, nu):\n",
    "\n",
    "    S = np.cov(data, rowvar=False)\n",
    "\n",
    "    u = (p ** p)  * (np.linalg.det(S) / (np.trace(S) ** p)) \n",
    "    u_t = -(nu - (2 * (p**2) + p + 2) / (6 * p)) * np.log(u)\n",
    "\n",
    "    eig_vals, _ = np.linalg.eig(S)\n",
    "    eig_vals = eig_vals[:p]\n",
    "\n",
    "    u = (p ** p)  * (np.prod(eig_vals) / (np.sum(eig_vals) ** p)) \n",
    "    u_t = - (nu - (2 * (p**2) + p + 2) / (6 * p)) * np.log(u)\n",
    "\n",
    "    df = (0.5 * p * (p + 1) - 1)\n",
    "    xi_critical = stats.chi2.ppf(1 - ALPHA, df=df)\n",
    "\n",
    "    return u_t, xi_critical"
   ]
  },
  {
   "cell_type": "code",
   "execution_count": 11,
   "metadata": {},
   "outputs": [],
   "source": [
    "u_t, xi_critical = calc_H_0_input_7_15_1(data_7_15, p_7_15, nu_7_15 )"
   ]
  },
  {
   "cell_type": "code",
   "execution_count": 12,
   "metadata": {},
   "outputs": [
    {
     "name": "stdout",
     "output_type": "stream",
     "text": [
      "Accept H_0\n"
     ]
    }
   ],
   "source": [
    "check_H_0(u_t, xi_critical)"
   ]
  },
  {
   "cell_type": "markdown",
   "metadata": {},
   "source": [
    "part II"
   ]
  },
  {
   "cell_type": "code",
   "execution_count": 13,
   "metadata": {},
   "outputs": [],
   "source": [
    "def calc_H_0_input_7_18_2(data, p, nu):\n",
    "    C = np.asarray([\n",
    "        [3/sqrt(12), -1/sqrt(12), -1/sqrt(12), -1/sqrt(12)],\n",
    "        [0, 2/sqrt(6), -1/sqrt(6), -1/sqrt(6)],\n",
    "        [0, 0, 1/sqrt(2), -1/sqrt(2)],\n",
    "    ])\n",
    "    S = np.cov(data, rowvar=False)\n",
    "    S_ort = C @ S @ C.T\n",
    "    p_ort = p - 1\n",
    "\n",
    "    u = (p_ort ** p_ort)  * (np.linalg.det(S_ort) / (np.trace(S_ort) ** p_ort)) \n",
    "    u_t = - (nu - (2 * (p_ort**2) + p_ort + 2) / (6 * p_ort)) * np.log(u)\n",
    "\n",
    "    df = (0.5 * p_ort * (p_ort + 1) - 1)\n",
    "    xi_critical = stats.chi2.ppf(1 - ALPHA, df=df)\n",
    "\n",
    "    return u_t, xi_critical"
   ]
  },
  {
   "cell_type": "code",
   "execution_count": 14,
   "metadata": {},
   "outputs": [],
   "source": [
    "u_t, xi_critical = calc_H_0_input_7_18_2(data_7_15, p_7_15, nu_7_15) "
   ]
  },
  {
   "cell_type": "code",
   "execution_count": 15,
   "metadata": {},
   "outputs": [
    {
     "name": "stdout",
     "output_type": "stream",
     "text": [
      "Reject H_0\n"
     ]
    }
   ],
   "source": [
    "check_H_0(u_t, xi_critical)"
   ]
  },
  {
   "cell_type": "markdown",
   "metadata": {},
   "source": [
    "## 7.28\n",
    "\n",
    "Test independence of $(y_1, y_2)$ and $(x_1, x_2)$ for the sons data in Table 3.7."
   ]
  },
  {
   "cell_type": "code",
   "execution_count": 16,
   "metadata": {},
   "outputs": [],
   "source": [
    "def load_data_7_28(data_source_path):\n",
    "    data = np.loadtxt(data_source_path, dtype=int)\n",
    "    k = 2\n",
    "    n, p = data.shape\n",
    "\n",
    "    son_a = data[:, :2]\n",
    "    n_a, p_a = son_a.shape\n",
    "\n",
    "    son_b = data[:, 2:]\n",
    "    n_b, p_b = son_b.shape\n",
    "\n",
    "    nu = min(n_a, n_b) - k\n",
    "\n",
    "    S = np.cov(data, rowvar=False)\n",
    "    s_xx = S[:2, :2]\n",
    "    s_yy = S[-2:, -2:]\n",
    "\n",
    "    L = np.linalg.det(S) / (np.linalg.det(s_xx) * np.linalg.det(s_yy))\n",
    "    a2 = p**2 - (p_a ** 2 + p_b ** 2)\n",
    "    a3 = p**3 - (p_a ** 3 + p_b ** 3)\n",
    "    f = a2 * 0.5\n",
    "    c = 1 - (2 * a3 + 3 * a2) / (12 * f * nu)\n",
    "    L_t = -nu * c * np.log(L)\n",
    "\n",
    "    xi_critical = stats.chi2.ppf(1 - ALPHA, df=f)\n",
    "\n",
    "    return L_t, xi_critical\n",
    "\n",
    "    "
   ]
  },
  {
   "cell_type": "code",
   "execution_count": 17,
   "metadata": {},
   "outputs": [],
   "source": [
    "L_t, xi_critical = load_data_7_28(DATA_SOURCE_PATH_7_28)"
   ]
  },
  {
   "cell_type": "code",
   "execution_count": 18,
   "metadata": {},
   "outputs": [
    {
     "name": "stdout",
     "output_type": "stream",
     "text": [
      "Accept H_0\n"
     ]
    }
   ],
   "source": [
    "check_H_0(L_t, xi_critical)"
   ]
  },
  {
   "cell_type": "code",
   "execution_count": null,
   "metadata": {},
   "outputs": [],
   "source": []
  }
 ],
 "metadata": {
  "interpreter": {
   "hash": "e7370f93d1d0cde622a1f8e1c04877d8463912d04d973331ad4851f04de6915a"
  },
  "kernelspec": {
   "display_name": "Python 3.10.4 64-bit",
   "language": "python",
   "name": "python3"
  },
  "language_info": {
   "codemirror_mode": {
    "name": "ipython",
    "version": 3
   },
   "file_extension": ".py",
   "mimetype": "text/x-python",
   "name": "python",
   "nbconvert_exporter": "python",
   "pygments_lexer": "ipython3",
   "version": "3.10.4"
  },
  "orig_nbformat": 4
 },
 "nbformat": 4,
 "nbformat_minor": 2
}
