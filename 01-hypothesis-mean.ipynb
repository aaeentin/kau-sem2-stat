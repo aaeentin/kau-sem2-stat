{
 "cells": [
  {
   "cell_type": "code",
   "execution_count": 1,
   "metadata": {},
   "outputs": [],
   "source": [
    "import numpy as np\n",
    "from scipy.stats import f, t"
   ]
  },
  {
   "cell_type": "code",
   "execution_count": 2,
   "metadata": {},
   "outputs": [],
   "source": [
    "def check_H_0(p_value, alpha):\n",
    "    if p_value <= alpha:\n",
    "        print('Reject H_0')\n",
    "    else:\n",
    "        print('Accept H_0')"
   ]
  },
  {
   "cell_type": "code",
   "execution_count": 3,
   "metadata": {},
   "outputs": [],
   "source": [
    "ALPHA = 0.05\n",
    "\n",
    "DATA_SOURCE_PATH_5_18 = 'data_samples/T5_6_PILOT.DAT'\n",
    "DATA_SOURCE_PATH_5_20 = 'data_samples/T5_8_GOODS.DAT'"
   ]
  },
  {
   "cell_type": "markdown",
   "metadata": {},
   "source": [
    "$T^{2} = \\dfrac{n_{1}n_{2}}{n_{1}+n_{2}}(\\bar{y_{1}} − \\bar{y_{2}})^{'} S^{-1}_{pl}(\\bar{y_{1}} − \\bar{y_{2}})$"
   ]
  },
  {
   "cell_type": "code",
   "execution_count": 4,
   "metadata": {},
   "outputs": [],
   "source": [
    "def calc_hotteling(mean1, mean2, S, n1, n2, p):\n",
    "    T_2 = (mean1.T - mean2.T) @ np.linalg.pinv(S) @ (mean1 - mean2) * ((n1 * n2) /(n1 + n2))\n",
    "    \n",
    "    statistic = T_2 * (n1 + n2 - p - 1) / (p * (n1 + n2 - 2))\n",
    "    F = f(p, n1 + n2 - p - 1)\n",
    "    p_value = 1 - F.cdf(statistic)\n",
    "    return T_2, statistic, p_value"
   ]
  },
  {
   "cell_type": "markdown",
   "metadata": {},
   "source": [
    "## 5.18\n",
    "\n",
    "Twenty engineer apprentices and 20 pilots were given six tests (Travers 1939). The variables were:\n",
    "\n",
    "+ $y_1$ = intelligence\n",
    "+ $y_2$ = form relations\n",
    "+ $y_3$ = dynamometer\n",
    "+ $y_4$ = dotting\n",
    "+ $y_5$ = sensory motor coordination\n",
    "+ $y_6$ = perseveration"
   ]
  },
  {
   "cell_type": "code",
   "execution_count": 5,
   "metadata": {},
   "outputs": [],
   "source": [
    "def load_and_prepare_data_5_18(pilot_data_path):\n",
    "    data = np.loadtxt(pilot_data_path, dtype=int)\n",
    "\n",
    "    pilots_data = data[:20, 1:]\n",
    "    nx = pilots_data.shape[0]\n",
    "    p = pilots_data.shape[1]\n",
    "\n",
    "    engineers_data = data[20:, 1:]\n",
    "    ny = engineers_data.shape[0]\n",
    "\n",
    "    engineers_mean = np.mean(engineers_data, axis=0)\n",
    "    pilots_mean = np.mean(pilots_data, axis=0)\n",
    "\n",
    "    engineers_cov = np.cov(engineers_data, rowvar=False)\n",
    "    pilots_cov = np.cov(pilots_data, rowvar=False)\n",
    "\n",
    "    S = ((nx - 1) * engineers_cov + (ny - 1) * pilots_cov) / (nx + ny - 2)\n",
    "    \n",
    "    return pilots_data, nx, p, engineers_data, ny, engineers_mean, pilots_mean, engineers_cov, pilots_cov, S\n"
   ]
  },
  {
   "cell_type": "code",
   "execution_count": 6,
   "metadata": {},
   "outputs": [],
   "source": [
    "pilots_data, nx, p, engineers_data, ny, engineers_mean, pilots_mean, engineers_cov, pilots_cov, S = load_and_prepare_data_5_18(DATA_SOURCE_PATH_5_18)"
   ]
  },
  {
   "cell_type": "markdown",
   "metadata": {},
   "source": [
    "a) Test $H_{0}:\\mu_{1}=\\mu_{2}$."
   ]
  },
  {
   "cell_type": "code",
   "execution_count": 7,
   "metadata": {},
   "outputs": [
    {
     "data": {
      "text/plain": [
       "(66.6604389902222, 9.648221432795319, 3.851202317717295e-06)"
      ]
     },
     "execution_count": 7,
     "metadata": {},
     "output_type": "execute_result"
    }
   ],
   "source": [
    "T_2, statistic, p_value = calc_hotteling(engineers_mean, pilots_mean, S, nx, ny, p)\n",
    "T_2, statistic, p_value"
   ]
  },
  {
   "cell_type": "code",
   "execution_count": 8,
   "metadata": {},
   "outputs": [
    {
     "name": "stdout",
     "output_type": "stream",
     "text": [
      "Reject H_0\n"
     ]
    }
   ],
   "source": [
    "check_H_0(p_value, ALPHA)"
   ]
  },
  {
   "cell_type": "markdown",
   "metadata": {},
   "source": [
    "$p_{val} \\leq 0.05$ -> reject $H_0$ "
   ]
  },
  {
   "cell_type": "markdown",
   "metadata": {},
   "source": [
    "b) If the $T^2-test$ in part (a) rejects $H_0$, carry out a _t-test_ for each variable, as in (5.15)\n",
    "\n",
    "$t_{j} = \\frac{\\bar{y_{1j}} − \\bar{y_{2j}}}{\\sqrt{[(n_{1}+n_{2})/n_{1}n_{2}]s_{jj}}} $ , $j = 1,...6$"
   ]
  },
  {
   "cell_type": "code",
   "execution_count": 9,
   "metadata": {},
   "outputs": [
    {
     "data": {
      "text/plain": [
       "array([ True, False, False, False,  True, False])"
      ]
     },
     "execution_count": 9,
     "metadata": {},
     "output_type": "execute_result"
    }
   ],
   "source": [
    "df = ny + nx - 2\n",
    "cv = t.ppf(1.0 - ALPHA, df)\n",
    "\n",
    "t_stats = np.asarray([\n",
    "    (engineers_mean[j] - pilots_mean[j]) / np.sqrt(((nx + ny) / (nx * ny)) * S[j,j])\n",
    "    for j in range(p)\n",
    "])\n",
    "\n",
    "p_vals = np.asarray([\n",
    "    (1 - t.cdf(abs(t_stats[j]), df)) * 2\n",
    "    for j in range(p)\n",
    "])\n",
    "\n",
    "p_vals > ALPHA"
   ]
  },
  {
   "cell_type": "markdown",
   "metadata": {},
   "source": [
    "Accept $H_0$ only for $\\mu_1$ and $\\mu_5$"
   ]
  },
  {
   "cell_type": "markdown",
   "metadata": {},
   "source": [
    "## 5.20\n",
    "\n",
    "Various aspects of economic cycles were measured for consumers’ goods and producers’ goods by Tintner (1946). The variables are:\n",
    "\n",
    "+ $y_1$ = length of cycle\n",
    "+ $y_2$ = percentage of rising prices\n",
    "+ $y_3$ = cyclical amplitude\n",
    "+ $y_4$ = rate of change"
   ]
  },
  {
   "cell_type": "code",
   "execution_count": 10,
   "metadata": {},
   "outputs": [],
   "source": [
    "def load_and_prepare_data_5_20(data_file):\n",
    "    data = np.loadtxt(data_file, dtype=float)\n",
    "\n",
    "    cons_data = data[:9, 1:]\n",
    "    nx = cons_data.shape[0]\n",
    "    p = cons_data.shape[1]\n",
    "\n",
    "    prod_data = data[9:, 1:]\n",
    "    ny = prod_data.shape[0]\n",
    "\n",
    "    cons_mean = np.mean(cons_data, axis=0)\n",
    "    prod_mean = np.mean(prod_data, axis=0)\n",
    "\n",
    "    cons_cov = np.cov(cons_data, rowvar=False)\n",
    "    prod_cov = np.cov(prod_data, rowvar=False)\n",
    "\n",
    "    S = ((nx - 1) * cons_cov + (ny - 1) * prod_cov) / (nx + ny - 2)\n",
    "\n",
    "    return cons_data, nx, p, prod_data, ny, cons_mean, prod_mean, cons_cov, prod_cov, S\n"
   ]
  },
  {
   "cell_type": "code",
   "execution_count": 11,
   "metadata": {},
   "outputs": [],
   "source": [
    "cons_data, nx, p, prod_data, ny, cons_mean, prod_mean, cons_cov, prod_cov, S = load_and_prepare_data_5_20(DATA_SOURCE_PATH_5_20)"
   ]
  },
  {
   "cell_type": "markdown",
   "metadata": {},
   "source": [
    "a) Test $H_{0}:\\mu_{1}=\\mu_{2}$ using $T^2$."
   ]
  },
  {
   "cell_type": "code",
   "execution_count": 12,
   "metadata": {},
   "outputs": [
    {
     "data": {
      "text/plain": [
       "(18.46248029300786, 2.823673456577673, 0.061072768410669886)"
      ]
     },
     "execution_count": 12,
     "metadata": {},
     "output_type": "execute_result"
    }
   ],
   "source": [
    "T_2, statistic, p_value = calc_hotteling(cons_mean, prod_mean, S, nx, ny, p)\n",
    "T_2, statistic, p_value"
   ]
  },
  {
   "cell_type": "code",
   "execution_count": 13,
   "metadata": {},
   "outputs": [
    {
     "name": "stdout",
     "output_type": "stream",
     "text": [
      "Accept H_0\n"
     ]
    }
   ],
   "source": [
    "check_H_0(p_value, ALPHA)"
   ]
  }
 ],
 "metadata": {
  "interpreter": {
   "hash": "e7370f93d1d0cde622a1f8e1c04877d8463912d04d973331ad4851f04de6915a"
  },
  "kernelspec": {
   "display_name": "Python 3.10.4 64-bit",
   "language": "python",
   "name": "python3"
  },
  "language_info": {
   "codemirror_mode": {
    "name": "ipython",
    "version": 3
   },
   "file_extension": ".py",
   "mimetype": "text/x-python",
   "name": "python",
   "nbconvert_exporter": "python",
   "pygments_lexer": "ipython3",
   "version": "3.10.4"
  },
  "orig_nbformat": 4
 },
 "nbformat": 4,
 "nbformat_minor": 2
}
